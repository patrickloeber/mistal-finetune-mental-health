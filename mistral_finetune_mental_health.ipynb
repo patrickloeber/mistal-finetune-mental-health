{
  "cells": [
    {
      "cell_type": "markdown",
      "source": [
        "Copyright 2024 Patrick Loeber"
      ],
      "metadata": {
        "id": "8jx5r0ESTOsr"
      }
    },
    {
      "cell_type": "markdown",
      "source": [
        "**DISCLAIMER**:\n",
        "\n",
        "**This guide is purely for educational purposes. The model does not replace real therapy.**\n",
        "\n",
        "**The prompts and dataset may contain sensitive information related to mental health.**\n",
        "\n",
        "**If you need emotional support or counseling, you'll find free helplines at [https://findahelpline.com/](https://findahelpline.com/).**\n"
      ],
      "metadata": {
        "id": "F2WhtDu0TRgO"
      }
    },
    {
      "cell_type": "markdown",
      "metadata": {
        "id": "urSaPCZoqEmM"
      },
      "source": [
        "# Build a mental health companion with Mistral\n",
        "\n",
        "In this guide, you'll learn how to build a mental health companion with Mistral.\n",
        "\n",
        "The model learns to provide helpful advice and support based on training data that consists of counseling sessions with qualified psychologists.\n",
        "\n",
        "We follow this approach:\n",
        "\n",
        "- **Dataset**: We finetune Mistral 7B on a mental health counseling conversation dataset.\n",
        "\n",
        "- **Fine-tuning**: For finetuning, we'll use the Mistral Finetuning API (This tutorial can be followed by being on the free tier).\n",
        "\n",
        "- **Safeguarding**: We'll also employ a second LLM as \"supervisor\", so you can rate the severity of the user problem and can take extra care and further action if needed.\n",
        "\n",
        "\n",
        "\n"
      ]
    },
    {
      "cell_type": "markdown",
      "source": [
        "## Install dependencies\n",
        "\n",
        "- [https://github.com/mistralai/client-python](https://github.com/mistralai/client-python)\n",
        "- [https://github.com/huggingface/datasets](https://github.com/huggingface/datasets)"
      ],
      "metadata": {
        "id": "W6FD4nrVZDxz"
      }
    },
    {
      "cell_type": "code",
      "execution_count": null,
      "metadata": {
        "id": "RUsq14W0qHuA"
      },
      "outputs": [],
      "source": [
        "!pip install mistralai datasets"
      ]
    },
    {
      "cell_type": "markdown",
      "metadata": {
        "id": "27PpM60GqRvR"
      },
      "source": [
        "## Prepare the dataset\n",
        "\n",
        "We'll use the [Amod/mental_health_counseling_conversations](https://huggingface.co/datasets/Amod/mental_health_counseling_conversations) dataset.\n",
        "\n",
        "The dataset consists of over 3500 questions and answers sourced from two online counseling and therapy platforms. The questions cover a wide range of mental health topics, and answers are provided by qualified psychologists. The dataset may contain sensitive information related to mental health. All data was anonymized and no personally identifiable information is included.\n",
        "\n",
        "We load the data and split it into training and validation, and save the data into the required jsonl format for fine-tuning."
      ]
    },
    {
      "cell_type": "code",
      "source": [
        "from datasets import load_dataset\n",
        "\n",
        "ds = load_dataset('Amod/mental_health_counseling_conversations')"
      ],
      "metadata": {
        "id": "nbJ-K3hGpzdb"
      },
      "execution_count": null,
      "outputs": []
    },
    {
      "cell_type": "code",
      "source": [
        "ds"
      ],
      "metadata": {
        "colab": {
          "base_uri": "https://localhost:8080/"
        },
        "id": "MkBE9yXpqaXa",
        "outputId": "558dd691-566a-4b53-d12b-39bbc1b2208a"
      },
      "execution_count": 3,
      "outputs": [
        {
          "output_type": "execute_result",
          "data": {
            "text/plain": [
              "DatasetDict({\n",
              "    train: Dataset({\n",
              "        features: ['Context', 'Response'],\n",
              "        num_rows: 3512\n",
              "    })\n",
              "})"
            ]
          },
          "metadata": {},
          "execution_count": 3
        }
      ]
    },
    {
      "cell_type": "code",
      "source": [
        "ds_splitted = ds['train'].train_test_split(test_size=0.1)\n",
        "ds_splitted"
      ],
      "metadata": {
        "colab": {
          "base_uri": "https://localhost:8080/"
        },
        "id": "amWsmD_oKriz",
        "outputId": "d654ca0c-6101-46af-b20c-6ae3c3d13b2d"
      },
      "execution_count": 4,
      "outputs": [
        {
          "output_type": "execute_result",
          "data": {
            "text/plain": [
              "DatasetDict({\n",
              "    train: Dataset({\n",
              "        features: ['Context', 'Response'],\n",
              "        num_rows: 3160\n",
              "    })\n",
              "    test: Dataset({\n",
              "        features: ['Context', 'Response'],\n",
              "        num_rows: 352\n",
              "    })\n",
              "})"
            ]
          },
          "metadata": {},
          "execution_count": 4
        }
      ]
    },
    {
      "cell_type": "code",
      "source": [
        "# Create and save jsonl files in the correct format\n",
        "import json\n",
        "\n",
        "def create_jsonl(dataset, output_filename):\n",
        "  lines = []\n",
        "  for sample in dataset:\n",
        "    context, response = sample[\"Context\"], sample[\"Response\"]\n",
        "\n",
        "    # replace unicode characters, e.g. \\u2019\n",
        "    context = context.replace(\"\\u2019\", \"'\").replace(\"\\u00a0\", \"\").replace(\"\\u201c\", \"'\").replace(\"\\u201d\", \"'\")\n",
        "    response = response.replace(\"\\u2019\", \"'\").replace(\"\\u00a0\", \"\").replace(\"\\u201c\", \"'\").replace(\"\\u201d\", \"'\")\n",
        "\n",
        "    # remove remaining unicode characters\n",
        "    response = response.encode(\"ascii\", \"ignore\").decode('unicode-escape')\n",
        "    context = context.encode(\"ascii\", \"ignore\").decode('unicode-escape')\n",
        "\n",
        "    # skip empty entries\n",
        "    if not response or not context:\n",
        "      continue\n",
        "\n",
        "    # apply the format needed for the finetuning API\n",
        "    line_dict = {\"messages\": [{\"role\": \"user\", \"content\": context}, {\"role\": \"assistant\", \"content\": response}]}\n",
        "    lines.append(line_dict)\n",
        "\n",
        "  with open(output_filename, \"w\") as f:\n",
        "    for line in lines:\n",
        "      f.write(f\"{json.dumps(line)}\\n\")"
      ],
      "metadata": {
        "id": "BnHbsfSFzsA2"
      },
      "execution_count": 83,
      "outputs": []
    },
    {
      "cell_type": "code",
      "source": [
        "create_jsonl(ds_splitted[\"train\"], \"mental_health_counseling_train.jsonl\")\n",
        "create_jsonl(ds_splitted[\"test\"], \"mental_health_counseling_eval.jsonl\")"
      ],
      "metadata": {
        "id": "T1qyH9Dv21f3"
      },
      "execution_count": 12,
      "outputs": []
    },
    {
      "cell_type": "markdown",
      "metadata": {
        "id": "hu_oLukAJect"
      },
      "source": [
        "## Upload dataset"
      ]
    },
    {
      "cell_type": "code",
      "source": [
        "from mistralai import Mistral\n",
        "\n",
        "api_key = \"YOUR_API_KEY\"\n",
        "\n",
        "client = Mistral(api_key=api_key)"
      ],
      "metadata": {
        "id": "89YHrL3r-e0V"
      },
      "execution_count": 14,
      "outputs": []
    },
    {
      "cell_type": "code",
      "execution_count": 121,
      "metadata": {
        "id": "B0UlO1Qa7xi3"
      },
      "outputs": [],
      "source": [
        "mental_health_counseling_train = client.files.upload(file={\n",
        "    \"file_name\": \"mental_health_counseling_train.jsonl\",\n",
        "    \"content\": open(\"mental_health_counseling_train.jsonl\", \"rb\"),\n",
        "})\n",
        "mental_health_counseling_eval = client.files.upload(file={\n",
        "    \"file_name\": \"mental_health_counseling_eval.jsonl\",\n",
        "    \"content\": open(\"mental_health_counseling_eval.jsonl\", \"rb\"),\n",
        "})"
      ]
    },
    {
      "cell_type": "code",
      "source": [
        "# This cell is optional. It retrieves the uploaded files\n",
        "# Only needed if you don't execute the above cell again\n",
        "files = client.files.list()\n",
        "for file in files.data:\n",
        "  if file.filename == \"mental_health_counseling_train.jsonl\":\n",
        "    mental_health_counseling_train = file\n",
        "  if file.filename == \"mental_health_counseling_eval.jsonl\":\n",
        "    mental_health_counseling_eval = file"
      ],
      "metadata": {
        "id": "H7Ovryrw_gS2"
      },
      "execution_count": 20,
      "outputs": []
    },
    {
      "cell_type": "code",
      "execution_count": 21,
      "metadata": {
        "colab": {
          "base_uri": "https://localhost:8080/"
        },
        "id": "rIAJdJIc9g2q",
        "outputId": "40ff0762-31a0-483d-d3ad-bdae7184d05c"
      },
      "outputs": [
        {
          "output_type": "stream",
          "name": "stdout",
          "text": [
            "id='924c2193-5dc9-4e10-8cb7-6be32abc1ec3' object='file' bytes=4490329 created_at=1728660991 filename='mental_health_counseling_train.jsonl' sample_type='instruct' source='upload' PURPOSE='fine-tune' num_lines=3156\n"
          ]
        }
      ],
      "source": [
        "print(mental_health_counseling_train)"
      ]
    },
    {
      "cell_type": "code",
      "execution_count": 22,
      "metadata": {
        "colab": {
          "base_uri": "https://localhost:8080/"
        },
        "id": "5uA-Xnp1RTmx",
        "outputId": "520e559a-0311-44a6-c72b-8a689e01f8db"
      },
      "outputs": [
        {
          "output_type": "stream",
          "name": "stdout",
          "text": [
            "id='f221d95f-d32b-4725-a056-52da3b80f0d4' object='file' bytes=496713 created_at=1728660992 filename='mental_health_counseling_eval.jsonl' sample_type='instruct' source='upload' PURPOSE='fine-tune' num_lines=352\n"
          ]
        }
      ],
      "source": [
        "print(mental_health_counseling_eval)"
      ]
    },
    {
      "cell_type": "markdown",
      "metadata": {
        "id": "DqchXMeXJi6U"
      },
      "source": [
        "## Create a fine-tuning job"
      ]
    },
    {
      "cell_type": "code",
      "execution_count": 141,
      "metadata": {
        "colab": {
          "base_uri": "https://localhost:8080/"
        },
        "id": "x9Qk42ADRVKo",
        "outputId": "b5de1627-4636-46fb-f2ad-c7c231b4caf6"
      },
      "outputs": [
        {
          "output_type": "execute_result",
          "data": {
            "text/plain": [
              "JobOut(id='89cbe5c9-2517-47df-8963-da040dbc0b7b', auto_start=True, hyperparameters=TrainingParameters(training_steps=100, learning_rate=0.0001, weight_decay=0.1, warmup_fraction=0.05, epochs=None, fim_ratio=None), model='open-mistral-7b', status='QUEUED', job_type='FT', created_at=1728661718, modified_at=1728661719, training_files=['924c2193-5dc9-4e10-8cb7-6be32abc1ec3'], validation_files=['f221d95f-d32b-4725-a056-52da3b80f0d4'], OBJECT='job', fine_tuned_model=None, suffix=None, integrations=[], trained_tokens=None, repositories=[], metadata=JobMetadataOut(expected_duration_seconds=None, cost=0.0, cost_currency=None, train_tokens_per_step=None, train_tokens=None, data_tokens=None, estimated_start_time=None))"
            ]
          },
          "metadata": {},
          "execution_count": 141
        }
      ],
      "source": [
        "created_jobs = client.fine_tuning.jobs.create(\n",
        "    model=\"open-mistral-7b\",\n",
        "    training_files=[{\"file_id\": mental_health_counseling_train.id, \"weight\": 1}],\n",
        "    validation_files=[mental_health_counseling_eval.id],\n",
        "    hyperparameters={\n",
        "    \"training_steps\": 100,\n",
        "    \"learning_rate\":0.0001\n",
        "    },\n",
        "    auto_start=True\n",
        ")\n",
        "created_jobs"
      ]
    },
    {
      "cell_type": "code",
      "execution_count": 142,
      "metadata": {
        "colab": {
          "base_uri": "https://localhost:8080/"
        },
        "id": "bkZlYvwGanL1",
        "outputId": "8aca69e0-9c6c-485a-8679-3d6a9872bacc"
      },
      "outputs": [
        {
          "output_type": "stream",
          "name": "stdout",
          "text": [
            "JobOut(id='89cbe5c9-2517-47df-8963-da040dbc0b7b', auto_start=True, hyperparameters=TrainingParameters(training_steps=100, learning_rate=0.0001, weight_decay=0.1, warmup_fraction=0.05, epochs=None, fim_ratio=None), model='open-mistral-7b', status='QUEUED', job_type='FT', created_at=1728661718, modified_at=1728661719, training_files=['924c2193-5dc9-4e10-8cb7-6be32abc1ec3'], validation_files=['f221d95f-d32b-4725-a056-52da3b80f0d4'], OBJECT='job', fine_tuned_model=None, suffix=None, integrations=[], trained_tokens=None, repositories=[], metadata=JobMetadataOut(expected_duration_seconds=None, cost=0.0, cost_currency=None, train_tokens_per_step=None, train_tokens=None, data_tokens=None, estimated_start_time=None))\n"
          ]
        }
      ],
      "source": [
        "print(created_jobs)"
      ]
    },
    {
      "cell_type": "code",
      "execution_count": 144,
      "metadata": {
        "colab": {
          "base_uri": "https://localhost:8080/"
        },
        "id": "M8X6Vk7RrTGt",
        "outputId": "74501caa-93ad-48ff-cefc-50c8300e579d"
      },
      "outputs": [
        {
          "output_type": "execute_result",
          "data": {
            "text/plain": [
              "DetailedJobOut(id='89cbe5c9-2517-47df-8963-da040dbc0b7b', auto_start=True, hyperparameters=TrainingParameters(training_steps=100, learning_rate=0.0001, weight_decay=0.1, warmup_fraction=0.05, epochs=11.675939931336865, fim_ratio=None), model='open-mistral-7b', status='RUNNING', job_type='FT', created_at=1728661718, modified_at=1728661722, training_files=['924c2193-5dc9-4e10-8cb7-6be32abc1ec3'], validation_files=['f221d95f-d32b-4725-a056-52da3b80f0d4'], OBJECT='job', fine_tuned_model=None, suffix=None, integrations=[], trained_tokens=None, repositories=[], metadata=JobMetadataOut(expected_duration_seconds=2100, cost=0.0, cost_currency=None, train_tokens_per_step=131072, train_tokens=13107200, data_tokens=1122582, estimated_start_time=None), events=[EventOut(name='status-updated', created_at=1728661722, data={'status': 'RUNNING'}), EventOut(name='status-updated', created_at=1728661722, data={'status': 'QUEUED'}), EventOut(name='status-updated', created_at=1728661722, data={'status': 'VALIDATED'}), EventOut(name='status-updated', created_at=1728661722, data={'status': 'RUNNING'}), EventOut(name='status-updated', created_at=1728661719, data={'status': 'QUEUED'})], checkpoints=[])"
            ]
          },
          "metadata": {},
          "execution_count": 144
        }
      ],
      "source": [
        "retrieved_jobs = client.fine_tuning.jobs.get(job_id = created_jobs.id)\n",
        "retrieved_jobs"
      ]
    },
    {
      "cell_type": "code",
      "execution_count": 145,
      "metadata": {
        "colab": {
          "base_uri": "https://localhost:8080/"
        },
        "id": "OQXIE2G3c-Ds",
        "outputId": "11afea90-9cb5-46a4-ca9d-8b3ffd7c5d32"
      },
      "outputs": [
        {
          "output_type": "stream",
          "name": "stdout",
          "text": [
            "DetailedJobOut(id='89cbe5c9-2517-47df-8963-da040dbc0b7b', auto_start=True, hyperparameters=TrainingParameters(training_steps=100, learning_rate=0.0001, weight_decay=0.1, warmup_fraction=0.05, epochs=11.675939931336865, fim_ratio=None), model='open-mistral-7b', status='RUNNING', job_type='FT', created_at=1728661718, modified_at=1728661722, training_files=['924c2193-5dc9-4e10-8cb7-6be32abc1ec3'], validation_files=['f221d95f-d32b-4725-a056-52da3b80f0d4'], OBJECT='job', fine_tuned_model=None, suffix=None, integrations=[], trained_tokens=None, repositories=[], metadata=JobMetadataOut(expected_duration_seconds=2100, cost=0.0, cost_currency=None, train_tokens_per_step=131072, train_tokens=13107200, data_tokens=1122582, estimated_start_time=None), events=[EventOut(name='status-updated', created_at=1728661722, data={'status': 'RUNNING'}), EventOut(name='status-updated', created_at=1728661722, data={'status': 'QUEUED'}), EventOut(name='status-updated', created_at=1728661722, data={'status': 'VALIDATED'}), EventOut(name='status-updated', created_at=1728661722, data={'status': 'RUNNING'}), EventOut(name='status-updated', created_at=1728661719, data={'status': 'QUEUED'})], checkpoints=[])\n",
            "Job is RUNNING, waiting 60 seconds\n",
            "DetailedJobOut(id='89cbe5c9-2517-47df-8963-da040dbc0b7b', auto_start=True, hyperparameters=TrainingParameters(training_steps=100, learning_rate=0.0001, weight_decay=0.1, warmup_fraction=0.05, epochs=11.675939931336865, fim_ratio=None), model='open-mistral-7b', status='RUNNING', job_type='FT', created_at=1728661718, modified_at=1728661722, training_files=['924c2193-5dc9-4e10-8cb7-6be32abc1ec3'], validation_files=['f221d95f-d32b-4725-a056-52da3b80f0d4'], OBJECT='job', fine_tuned_model=None, suffix=None, integrations=[], trained_tokens=None, repositories=[], metadata=JobMetadataOut(expected_duration_seconds=2100, cost=0.0, cost_currency=None, train_tokens_per_step=131072, train_tokens=13107200, data_tokens=1122582, estimated_start_time=None), events=[EventOut(name='status-updated', created_at=1728661722, data={'status': 'RUNNING'}), EventOut(name='status-updated', created_at=1728661722, data={'status': 'QUEUED'}), EventOut(name='status-updated', created_at=1728661722, data={'status': 'VALIDATED'}), EventOut(name='status-updated', created_at=1728661722, data={'status': 'RUNNING'}), EventOut(name='status-updated', created_at=1728661719, data={'status': 'QUEUED'})], checkpoints=[])\n",
            "Job is RUNNING, waiting 60 seconds\n",
            "DetailedJobOut(id='89cbe5c9-2517-47df-8963-da040dbc0b7b', auto_start=True, hyperparameters=TrainingParameters(training_steps=100, learning_rate=0.0001, weight_decay=0.1, warmup_fraction=0.05, epochs=11.675939931336865, fim_ratio=None), model='open-mistral-7b', status='RUNNING', job_type='FT', created_at=1728661718, modified_at=1728661722, training_files=['924c2193-5dc9-4e10-8cb7-6be32abc1ec3'], validation_files=['f221d95f-d32b-4725-a056-52da3b80f0d4'], OBJECT='job', fine_tuned_model=None, suffix=None, integrations=[], trained_tokens=None, repositories=[], metadata=JobMetadataOut(expected_duration_seconds=2100, cost=0.0, cost_currency=None, train_tokens_per_step=131072, train_tokens=13107200, data_tokens=1122582, estimated_start_time=None), events=[EventOut(name='status-updated', created_at=1728661722, data={'status': 'RUNNING'}), EventOut(name='status-updated', created_at=1728661722, data={'status': 'QUEUED'}), EventOut(name='status-updated', created_at=1728661722, data={'status': 'VALIDATED'}), EventOut(name='status-updated', created_at=1728661722, data={'status': 'RUNNING'}), EventOut(name='status-updated', created_at=1728661719, data={'status': 'QUEUED'})], checkpoints=[])\n",
            "Job is RUNNING, waiting 60 seconds\n",
            "DetailedJobOut(id='89cbe5c9-2517-47df-8963-da040dbc0b7b', auto_start=True, hyperparameters=TrainingParameters(training_steps=100, learning_rate=0.0001, weight_decay=0.1, warmup_fraction=0.05, epochs=11.675939931336865, fim_ratio=None), model='open-mistral-7b', status='RUNNING', job_type='FT', created_at=1728661718, modified_at=1728661722, training_files=['924c2193-5dc9-4e10-8cb7-6be32abc1ec3'], validation_files=['f221d95f-d32b-4725-a056-52da3b80f0d4'], OBJECT='job', fine_tuned_model=None, suffix=None, integrations=[], trained_tokens=None, repositories=[], metadata=JobMetadataOut(expected_duration_seconds=2100, cost=0.0, cost_currency=None, train_tokens_per_step=131072, train_tokens=13107200, data_tokens=1122582, estimated_start_time=None), events=[EventOut(name='status-updated', created_at=1728661722, data={'status': 'RUNNING'}), EventOut(name='status-updated', created_at=1728661722, data={'status': 'QUEUED'}), EventOut(name='status-updated', created_at=1728661722, data={'status': 'VALIDATED'}), EventOut(name='status-updated', created_at=1728661722, data={'status': 'RUNNING'}), EventOut(name='status-updated', created_at=1728661719, data={'status': 'QUEUED'})], checkpoints=[CheckpointOut(metrics=MetricOut(train_loss=2.062256, valid_loss=2.094189, valid_mean_token_accuracy=4.269859), step_number=20, created_at=1728661862)])\n",
            "Job is RUNNING, waiting 60 seconds\n",
            "DetailedJobOut(id='89cbe5c9-2517-47df-8963-da040dbc0b7b', auto_start=True, hyperparameters=TrainingParameters(training_steps=100, learning_rate=0.0001, weight_decay=0.1, warmup_fraction=0.05, epochs=11.675939931336865, fim_ratio=None), model='open-mistral-7b', status='RUNNING', job_type='FT', created_at=1728661718, modified_at=1728661722, training_files=['924c2193-5dc9-4e10-8cb7-6be32abc1ec3'], validation_files=['f221d95f-d32b-4725-a056-52da3b80f0d4'], OBJECT='job', fine_tuned_model=None, suffix=None, integrations=[], trained_tokens=None, repositories=[], metadata=JobMetadataOut(expected_duration_seconds=2100, cost=0.0, cost_currency=None, train_tokens_per_step=131072, train_tokens=13107200, data_tokens=1122582, estimated_start_time=None), events=[EventOut(name='status-updated', created_at=1728661722, data={'status': 'RUNNING'}), EventOut(name='status-updated', created_at=1728661722, data={'status': 'QUEUED'}), EventOut(name='status-updated', created_at=1728661722, data={'status': 'VALIDATED'}), EventOut(name='status-updated', created_at=1728661722, data={'status': 'RUNNING'}), EventOut(name='status-updated', created_at=1728661719, data={'status': 'QUEUED'})], checkpoints=[CheckpointOut(metrics=MetricOut(train_loss=2.062256, valid_loss=2.094189, valid_mean_token_accuracy=4.269859), step_number=20, created_at=1728661862)])\n",
            "Job is RUNNING, waiting 60 seconds\n",
            "DetailedJobOut(id='89cbe5c9-2517-47df-8963-da040dbc0b7b', auto_start=True, hyperparameters=TrainingParameters(training_steps=100, learning_rate=0.0001, weight_decay=0.1, warmup_fraction=0.05, epochs=11.675939931336865, fim_ratio=None), model='open-mistral-7b', status='RUNNING', job_type='FT', created_at=1728661718, modified_at=1728661722, training_files=['924c2193-5dc9-4e10-8cb7-6be32abc1ec3'], validation_files=['f221d95f-d32b-4725-a056-52da3b80f0d4'], OBJECT='job', fine_tuned_model=None, suffix=None, integrations=[], trained_tokens=None, repositories=[], metadata=JobMetadataOut(expected_duration_seconds=2100, cost=0.0, cost_currency=None, train_tokens_per_step=131072, train_tokens=13107200, data_tokens=1122582, estimated_start_time=None), events=[EventOut(name='status-updated', created_at=1728661722, data={'status': 'RUNNING'}), EventOut(name='status-updated', created_at=1728661722, data={'status': 'QUEUED'}), EventOut(name='status-updated', created_at=1728661722, data={'status': 'VALIDATED'}), EventOut(name='status-updated', created_at=1728661722, data={'status': 'RUNNING'}), EventOut(name='status-updated', created_at=1728661719, data={'status': 'QUEUED'})], checkpoints=[CheckpointOut(metrics=MetricOut(train_loss=1.870151, valid_loss=1.99562, valid_mean_token_accuracy=3.987873), step_number=40, created_at=1728661977), CheckpointOut(metrics=MetricOut(train_loss=2.062256, valid_loss=2.094189, valid_mean_token_accuracy=4.269859), step_number=20, created_at=1728661862)])\n",
            "Job is RUNNING, waiting 60 seconds\n",
            "DetailedJobOut(id='89cbe5c9-2517-47df-8963-da040dbc0b7b', auto_start=True, hyperparameters=TrainingParameters(training_steps=100, learning_rate=0.0001, weight_decay=0.1, warmup_fraction=0.05, epochs=11.675939931336865, fim_ratio=None), model='open-mistral-7b', status='RUNNING', job_type='FT', created_at=1728661718, modified_at=1728661722, training_files=['924c2193-5dc9-4e10-8cb7-6be32abc1ec3'], validation_files=['f221d95f-d32b-4725-a056-52da3b80f0d4'], OBJECT='job', fine_tuned_model=None, suffix=None, integrations=[], trained_tokens=None, repositories=[], metadata=JobMetadataOut(expected_duration_seconds=2100, cost=0.0, cost_currency=None, train_tokens_per_step=131072, train_tokens=13107200, data_tokens=1122582, estimated_start_time=None), events=[EventOut(name='status-updated', created_at=1728661722, data={'status': 'RUNNING'}), EventOut(name='status-updated', created_at=1728661722, data={'status': 'QUEUED'}), EventOut(name='status-updated', created_at=1728661722, data={'status': 'VALIDATED'}), EventOut(name='status-updated', created_at=1728661722, data={'status': 'RUNNING'}), EventOut(name='status-updated', created_at=1728661719, data={'status': 'QUEUED'})], checkpoints=[CheckpointOut(metrics=MetricOut(train_loss=1.821644, valid_loss=1.92464, valid_mean_token_accuracy=3.796421), step_number=60, created_at=1728662090), CheckpointOut(metrics=MetricOut(train_loss=1.870151, valid_loss=1.99562, valid_mean_token_accuracy=3.987873), step_number=40, created_at=1728661977), CheckpointOut(metrics=MetricOut(train_loss=2.062256, valid_loss=2.094189, valid_mean_token_accuracy=4.269859), step_number=20, created_at=1728661862)])\n",
            "Job is RUNNING, waiting 60 seconds\n",
            "DetailedJobOut(id='89cbe5c9-2517-47df-8963-da040dbc0b7b', auto_start=True, hyperparameters=TrainingParameters(training_steps=100, learning_rate=0.0001, weight_decay=0.1, warmup_fraction=0.05, epochs=11.675939931336865, fim_ratio=None), model='open-mistral-7b', status='RUNNING', job_type='FT', created_at=1728661718, modified_at=1728661722, training_files=['924c2193-5dc9-4e10-8cb7-6be32abc1ec3'], validation_files=['f221d95f-d32b-4725-a056-52da3b80f0d4'], OBJECT='job', fine_tuned_model=None, suffix=None, integrations=[], trained_tokens=None, repositories=[], metadata=JobMetadataOut(expected_duration_seconds=2100, cost=0.0, cost_currency=None, train_tokens_per_step=131072, train_tokens=13107200, data_tokens=1122582, estimated_start_time=None), events=[EventOut(name='status-updated', created_at=1728661722, data={'status': 'RUNNING'}), EventOut(name='status-updated', created_at=1728661722, data={'status': 'QUEUED'}), EventOut(name='status-updated', created_at=1728661722, data={'status': 'VALIDATED'}), EventOut(name='status-updated', created_at=1728661722, data={'status': 'RUNNING'}), EventOut(name='status-updated', created_at=1728661719, data={'status': 'QUEUED'})], checkpoints=[CheckpointOut(metrics=MetricOut(train_loss=1.821644, valid_loss=1.92464, valid_mean_token_accuracy=3.796421), step_number=60, created_at=1728662090), CheckpointOut(metrics=MetricOut(train_loss=1.870151, valid_loss=1.99562, valid_mean_token_accuracy=3.987873), step_number=40, created_at=1728661977), CheckpointOut(metrics=MetricOut(train_loss=2.062256, valid_loss=2.094189, valid_mean_token_accuracy=4.269859), step_number=20, created_at=1728661862)])\n",
            "Job is RUNNING, waiting 60 seconds\n",
            "DetailedJobOut(id='89cbe5c9-2517-47df-8963-da040dbc0b7b', auto_start=True, hyperparameters=TrainingParameters(training_steps=100, learning_rate=0.0001, weight_decay=0.1, warmup_fraction=0.05, epochs=11.675939931336865, fim_ratio=None), model='open-mistral-7b', status='RUNNING', job_type='FT', created_at=1728661718, modified_at=1728661722, training_files=['924c2193-5dc9-4e10-8cb7-6be32abc1ec3'], validation_files=['f221d95f-d32b-4725-a056-52da3b80f0d4'], OBJECT='job', fine_tuned_model=None, suffix=None, integrations=[], trained_tokens=None, repositories=[], metadata=JobMetadataOut(expected_duration_seconds=2100, cost=0.0, cost_currency=None, train_tokens_per_step=131072, train_tokens=13107200, data_tokens=1122582, estimated_start_time=None), events=[EventOut(name='status-updated', created_at=1728661722, data={'status': 'RUNNING'}), EventOut(name='status-updated', created_at=1728661722, data={'status': 'QUEUED'}), EventOut(name='status-updated', created_at=1728661722, data={'status': 'VALIDATED'}), EventOut(name='status-updated', created_at=1728661722, data={'status': 'RUNNING'}), EventOut(name='status-updated', created_at=1728661719, data={'status': 'QUEUED'})], checkpoints=[CheckpointOut(metrics=MetricOut(train_loss=2.01456, valid_loss=1.886569, valid_mean_token_accuracy=3.697547), step_number=80, created_at=1728662206), CheckpointOut(metrics=MetricOut(train_loss=1.821644, valid_loss=1.92464, valid_mean_token_accuracy=3.796421), step_number=60, created_at=1728662090), CheckpointOut(metrics=MetricOut(train_loss=1.870151, valid_loss=1.99562, valid_mean_token_accuracy=3.987873), step_number=40, created_at=1728661977), CheckpointOut(metrics=MetricOut(train_loss=2.062256, valid_loss=2.094189, valid_mean_token_accuracy=4.269859), step_number=20, created_at=1728661862)])\n",
            "Job is RUNNING, waiting 60 seconds\n",
            "DetailedJobOut(id='89cbe5c9-2517-47df-8963-da040dbc0b7b', auto_start=True, hyperparameters=TrainingParameters(training_steps=100, learning_rate=0.0001, weight_decay=0.1, warmup_fraction=0.05, epochs=11.675939931336865, fim_ratio=None), model='open-mistral-7b', status='RUNNING', job_type='FT', created_at=1728661718, modified_at=1728661722, training_files=['924c2193-5dc9-4e10-8cb7-6be32abc1ec3'], validation_files=['f221d95f-d32b-4725-a056-52da3b80f0d4'], OBJECT='job', fine_tuned_model=None, suffix=None, integrations=[], trained_tokens=None, repositories=[], metadata=JobMetadataOut(expected_duration_seconds=2100, cost=0.0, cost_currency=None, train_tokens_per_step=131072, train_tokens=13107200, data_tokens=1122582, estimated_start_time=None), events=[EventOut(name='status-updated', created_at=1728661722, data={'status': 'RUNNING'}), EventOut(name='status-updated', created_at=1728661722, data={'status': 'QUEUED'}), EventOut(name='status-updated', created_at=1728661722, data={'status': 'VALIDATED'}), EventOut(name='status-updated', created_at=1728661722, data={'status': 'RUNNING'}), EventOut(name='status-updated', created_at=1728661719, data={'status': 'QUEUED'})], checkpoints=[CheckpointOut(metrics=MetricOut(train_loss=2.01456, valid_loss=1.886569, valid_mean_token_accuracy=3.697547), step_number=80, created_at=1728662206), CheckpointOut(metrics=MetricOut(train_loss=1.821644, valid_loss=1.92464, valid_mean_token_accuracy=3.796421), step_number=60, created_at=1728662090), CheckpointOut(metrics=MetricOut(train_loss=1.870151, valid_loss=1.99562, valid_mean_token_accuracy=3.987873), step_number=40, created_at=1728661977), CheckpointOut(metrics=MetricOut(train_loss=2.062256, valid_loss=2.094189, valid_mean_token_accuracy=4.269859), step_number=20, created_at=1728661862)])\n",
            "Job is RUNNING, waiting 60 seconds\n",
            "DetailedJobOut(id='89cbe5c9-2517-47df-8963-da040dbc0b7b', auto_start=True, hyperparameters=TrainingParameters(training_steps=100, learning_rate=0.0001, weight_decay=0.1, warmup_fraction=0.05, epochs=11.675939931336865, fim_ratio=None), model='open-mistral-7b', status='RUNNING', job_type='FT', created_at=1728661718, modified_at=1728661722, training_files=['924c2193-5dc9-4e10-8cb7-6be32abc1ec3'], validation_files=['f221d95f-d32b-4725-a056-52da3b80f0d4'], OBJECT='job', fine_tuned_model=None, suffix=None, integrations=[], trained_tokens=None, repositories=[], metadata=JobMetadataOut(expected_duration_seconds=2100, cost=0.0, cost_currency=None, train_tokens_per_step=131072, train_tokens=13107200, data_tokens=1122582, estimated_start_time=None), events=[EventOut(name='status-updated', created_at=1728661722, data={'status': 'RUNNING'}), EventOut(name='status-updated', created_at=1728661722, data={'status': 'QUEUED'}), EventOut(name='status-updated', created_at=1728661722, data={'status': 'VALIDATED'}), EventOut(name='status-updated', created_at=1728661722, data={'status': 'RUNNING'}), EventOut(name='status-updated', created_at=1728661719, data={'status': 'QUEUED'})], checkpoints=[CheckpointOut(metrics=MetricOut(train_loss=1.450292, valid_loss=1.881553, valid_mean_token_accuracy=3.684713), step_number=100, created_at=1728662320), CheckpointOut(metrics=MetricOut(train_loss=2.01456, valid_loss=1.886569, valid_mean_token_accuracy=3.697547), step_number=80, created_at=1728662206), CheckpointOut(metrics=MetricOut(train_loss=1.821644, valid_loss=1.92464, valid_mean_token_accuracy=3.796421), step_number=60, created_at=1728662090), CheckpointOut(metrics=MetricOut(train_loss=1.870151, valid_loss=1.99562, valid_mean_token_accuracy=3.987873), step_number=40, created_at=1728661977), CheckpointOut(metrics=MetricOut(train_loss=2.062256, valid_loss=2.094189, valid_mean_token_accuracy=4.269859), step_number=20, created_at=1728661862)])\n",
            "Job is RUNNING, waiting 60 seconds\n",
            "DetailedJobOut(id='89cbe5c9-2517-47df-8963-da040dbc0b7b', auto_start=True, hyperparameters=TrainingParameters(training_steps=100, learning_rate=0.0001, weight_decay=0.1, warmup_fraction=0.05, epochs=11.675939931336865, fim_ratio=None), model='open-mistral-7b', status='SUCCESS', job_type='FT', created_at=1728661718, modified_at=1728662343, training_files=['924c2193-5dc9-4e10-8cb7-6be32abc1ec3'], validation_files=['f221d95f-d32b-4725-a056-52da3b80f0d4'], OBJECT='job', fine_tuned_model='ft:open-mistral-7b:e4a88ecf:20241011:89cbe5c9', suffix=None, integrations=[], trained_tokens=13107200, repositories=[], metadata=JobMetadataOut(expected_duration_seconds=2100, cost=0.0, cost_currency=None, train_tokens_per_step=131072, train_tokens=13107200, data_tokens=1122582, estimated_start_time=None), events=[EventOut(name='status-updated', created_at=1728662343, data={'status': 'SUCCESS'}), EventOut(name='status-updated', created_at=1728661722, data={'status': 'RUNNING'}), EventOut(name='status-updated', created_at=1728661722, data={'status': 'QUEUED'}), EventOut(name='status-updated', created_at=1728661722, data={'status': 'VALIDATED'}), EventOut(name='status-updated', created_at=1728661722, data={'status': 'RUNNING'}), EventOut(name='status-updated', created_at=1728661719, data={'status': 'QUEUED'})], checkpoints=[CheckpointOut(metrics=MetricOut(train_loss=1.450292, valid_loss=1.881553, valid_mean_token_accuracy=3.684713), step_number=100, created_at=1728662320), CheckpointOut(metrics=MetricOut(train_loss=2.01456, valid_loss=1.886569, valid_mean_token_accuracy=3.697547), step_number=80, created_at=1728662206), CheckpointOut(metrics=MetricOut(train_loss=1.821644, valid_loss=1.92464, valid_mean_token_accuracy=3.796421), step_number=60, created_at=1728662090), CheckpointOut(metrics=MetricOut(train_loss=1.870151, valid_loss=1.99562, valid_mean_token_accuracy=3.987873), step_number=40, created_at=1728661977), CheckpointOut(metrics=MetricOut(train_loss=2.062256, valid_loss=2.094189, valid_mean_token_accuracy=4.269859), step_number=20, created_at=1728661862)])\n",
            "Job is SUCCESS, waiting 60 seconds\n"
          ]
        }
      ],
      "source": [
        "# Check the fine-tuning status every 60 seconds until completed\n",
        "import time\n",
        "\n",
        "retrieved_job = client.fine_tuning.jobs.get(job_id = created_jobs.id)\n",
        "while retrieved_job.status in [\"RUNNING\", \"QUEUED\"]:\n",
        "    retrieved_job = client.fine_tuning.jobs.get(job_id = created_jobs.id)\n",
        "    print(retrieved_job)\n",
        "    print(f\"Job is {retrieved_job.status}, waiting 60 seconds\")\n",
        "    time.sleep(60)"
      ]
    },
    {
      "cell_type": "code",
      "execution_count": 23,
      "metadata": {
        "colab": {
          "base_uri": "https://localhost:8080/"
        },
        "id": "_x6wRaDtXDzt",
        "outputId": "e61b38c6-2b7f-46ab-d6d5-b66231839b9e"
      },
      "outputs": [
        {
          "output_type": "stream",
          "name": "stdout",
          "text": [
            "total=3 data=[JobOut(id='89cbe5c9-2517-47df-8963-da040dbc0b7b', auto_start=True, hyperparameters=TrainingParameters(training_steps=100, learning_rate=0.0001, weight_decay=0.1, warmup_fraction=0.05, epochs=11.675939931336865, fim_ratio=None), model='open-mistral-7b', status='SUCCESS', job_type='FT', created_at=1728661718, modified_at=1728662343, training_files=['924c2193-5dc9-4e10-8cb7-6be32abc1ec3'], validation_files=['f221d95f-d32b-4725-a056-52da3b80f0d4'], OBJECT='job', fine_tuned_model='ft:open-mistral-7b:e4a88ecf:20241011:89cbe5c9', suffix=None, integrations=[], trained_tokens=13107200, repositories=[], metadata=JobMetadataOut(expected_duration_seconds=2100, cost=0.0, cost_currency=None, train_tokens_per_step=131072, train_tokens=13107200, data_tokens=1122582, estimated_start_time=None)), JobOut(id='dedfbafa-be67-4d45-afbc-c701f5ea06fe', auto_start=True, hyperparameters=TrainingParameters(training_steps=200, learning_rate=0.0001, weight_decay=0.1, warmup_fraction=0.05, epochs=23.35187986267373, fim_ratio=None), model='open-mistral-7b', status='FAILED_VALIDATION', job_type='FT', created_at=1728661647, modified_at=1728661651, training_files=['924c2193-5dc9-4e10-8cb7-6be32abc1ec3'], validation_files=['f221d95f-d32b-4725-a056-52da3b80f0d4'], OBJECT='job', fine_tuned_model=None, suffix=None, integrations=[], trained_tokens=None, repositories=[], metadata=JobMetadataOut(expected_duration_seconds=4200, cost=0.0, cost_currency=None, train_tokens_per_step=131072, train_tokens=26214400, data_tokens=1122582, estimated_start_time=None)), JobOut(id='e95579b8-8e73-4e40-b0c1-6a1bee264f79', auto_start=True, hyperparameters=TrainingParameters(training_steps=10, learning_rate=0.0001, weight_decay=0.1, warmup_fraction=0.05, epochs=1.1675939931336865, fim_ratio=None), model='open-mistral-7b', status='SUCCESS', job_type='FT', created_at=1728661190, modified_at=1728661299, training_files=['924c2193-5dc9-4e10-8cb7-6be32abc1ec3'], validation_files=['f221d95f-d32b-4725-a056-52da3b80f0d4'], OBJECT='job', fine_tuned_model='ft:open-mistral-7b:e4a88ecf:20241011:e95579b8', suffix=None, integrations=[], trained_tokens=1310720, repositories=[], metadata=JobMetadataOut(expected_duration_seconds=210, cost=0.0, cost_currency=None, train_tokens_per_step=131072, train_tokens=1310720, data_tokens=1122582, estimated_start_time=None))] OBJECT='list'\n"
          ]
        }
      ],
      "source": [
        "# List jobs\n",
        "jobs = client.fine_tuning.jobs.list()\n",
        "print(jobs)"
      ]
    },
    {
      "cell_type": "code",
      "execution_count": 148,
      "metadata": {
        "colab": {
          "base_uri": "https://localhost:8080/"
        },
        "id": "OhTWA5uJXHNp",
        "outputId": "7a763cfb-0144-4d53-926c-f75f99bc41dd"
      },
      "outputs": [
        {
          "output_type": "stream",
          "name": "stdout",
          "text": [
            "DetailedJobOut(id='89cbe5c9-2517-47df-8963-da040dbc0b7b', auto_start=True, hyperparameters=TrainingParameters(training_steps=100, learning_rate=0.0001, weight_decay=0.1, warmup_fraction=0.05, epochs=11.675939931336865, fim_ratio=None), model='open-mistral-7b', status='SUCCESS', job_type='FT', created_at=1728661718, modified_at=1728662343, training_files=['924c2193-5dc9-4e10-8cb7-6be32abc1ec3'], validation_files=['f221d95f-d32b-4725-a056-52da3b80f0d4'], OBJECT='job', fine_tuned_model='ft:open-mistral-7b:e4a88ecf:20241011:89cbe5c9', suffix=None, integrations=[], trained_tokens=13107200, repositories=[], metadata=JobMetadataOut(expected_duration_seconds=2100, cost=0.0, cost_currency=None, train_tokens_per_step=131072, train_tokens=13107200, data_tokens=1122582, estimated_start_time=None), events=[EventOut(name='status-updated', created_at=1728662343, data={'status': 'SUCCESS'}), EventOut(name='status-updated', created_at=1728661722, data={'status': 'RUNNING'}), EventOut(name='status-updated', created_at=1728661722, data={'status': 'QUEUED'}), EventOut(name='status-updated', created_at=1728661722, data={'status': 'VALIDATED'}), EventOut(name='status-updated', created_at=1728661722, data={'status': 'RUNNING'}), EventOut(name='status-updated', created_at=1728661719, data={'status': 'QUEUED'})], checkpoints=[CheckpointOut(metrics=MetricOut(train_loss=1.450292, valid_loss=1.881553, valid_mean_token_accuracy=3.684713), step_number=100, created_at=1728662320), CheckpointOut(metrics=MetricOut(train_loss=2.01456, valid_loss=1.886569, valid_mean_token_accuracy=3.697547), step_number=80, created_at=1728662206), CheckpointOut(metrics=MetricOut(train_loss=1.821644, valid_loss=1.92464, valid_mean_token_accuracy=3.796421), step_number=60, created_at=1728662090), CheckpointOut(metrics=MetricOut(train_loss=1.870151, valid_loss=1.99562, valid_mean_token_accuracy=3.987873), step_number=40, created_at=1728661977), CheckpointOut(metrics=MetricOut(train_loss=2.062256, valid_loss=2.094189, valid_mean_token_accuracy=4.269859), step_number=20, created_at=1728661862)])\n"
          ]
        }
      ],
      "source": [
        "# Retrieve a jobs\n",
        "retrieved_jobs = client.fine_tuning.jobs.get(job_id = created_jobs.id)\n",
        "print(retrieved_jobs)"
      ]
    },
    {
      "cell_type": "markdown",
      "metadata": {
        "id": "LK-cSS2EJv-e"
      },
      "source": [
        "## Use a fine-tuned model\n",
        "\n",
        "After a successful fine-tuning job, the model can be used immediately."
      ]
    },
    {
      "cell_type": "code",
      "source": [
        "retrieved_jobs.fine_tuned_model"
      ],
      "metadata": {
        "colab": {
          "base_uri": "https://localhost:8080/",
          "height": 35
        },
        "id": "Z7gQvgeWRXxW",
        "outputId": "404f7546-87a7-474f-a794-9aced1147aad"
      },
      "execution_count": 149,
      "outputs": [
        {
          "output_type": "execute_result",
          "data": {
            "text/plain": [
              "'ft:open-mistral-7b:e4a88ecf:20241011:89cbe5c9'"
            ],
            "application/vnd.google.colaboratory.intrinsic+json": {
              "type": "string"
            }
          },
          "metadata": {},
          "execution_count": 149
        }
      ]
    },
    {
      "cell_type": "code",
      "source": [
        "def run_model(prompt, model):\n",
        "    chat_response = client.chat.complete(\n",
        "      model = model,\n",
        "      messages = [{\"role\":'user', \"content\": prompt}]\n",
        "    )\n",
        "\n",
        "    return chat_response.choices[0].message.content"
      ],
      "metadata": {
        "id": "XC5NoCv2CygE"
      },
      "execution_count": 27,
      "outputs": []
    },
    {
      "cell_type": "code",
      "source": [
        "finetuned_model = 'ft:open-mistral-7b:e4a88ecf:20241011:89cbe5c9'\n",
        "base_model = 'open-mistral-7b'"
      ],
      "metadata": {
        "id": "bc7iiXqkDVkM"
      },
      "execution_count": 25,
      "outputs": []
    },
    {
      "cell_type": "markdown",
      "source": [
        "Let's compare the fine-tuned model with the Mistral 7B base model.\n",
        "\n",
        "_Note: If you're on the free tier and run into rate limiting errors, add a `time.sleep(1)` in between LLM calls_"
      ],
      "metadata": {
        "id": "LnjqNLhJSbhn"
      }
    },
    {
      "cell_type": "code",
      "source": [
        "prompt = 'I have a lot of issues going on right now. First of all, I have a lot of trouble sleeping at times, while other nights I sleep too much and still feel quite tired. Im also noticing increased irritability and experiencing anxiety attacks that last for hours. Is there something wrong with me and if so what should I do?'\n",
        "\n",
        "print(run_model(prompt, finetuned_model))\n",
        "print(\"\\n\\n-------\\n\\n\")\n",
        "print(run_model(prompt, base_model))"
      ],
      "metadata": {
        "colab": {
          "base_uri": "https://localhost:8080/"
        },
        "id": "mFdrS8p7Dpmn",
        "outputId": "fec9a330-8af0-40ba-e7ea-bee05c273a62"
      },
      "execution_count": 30,
      "outputs": [
        {
          "output_type": "stream",
          "name": "stdout",
          "text": [
            "I would be curious to know a little bit more about your situation. The first things I would ask would be, what are you eating and drinking? How much are you exercising? Are you isolating or spending time with friends or family? Is there any particular thing that tends to lead up to your anxiety attacks? Is there anything that helps you feel better when you are having an anxiety attack? I would also recommend that you track your mood and what seems to be associated with it on a daily basis. If you have difficulty getting started with this, consider checking out the Mood and Food app.\n",
            "\n",
            "\n",
            "-------\n",
            "\n",
            "\n",
            "I'm really sorry that you're going through this, but I'm unable to provide a diagnosis or treatment recommendations. It's important to speak with a healthcare professional about your symptoms as they may be related to various physical or mental health conditions. Some common causes of sleep disturbances, irritability, and anxiety include stress, anxiety disorders, depression, bipolar disorder, sleep apnea, and other medical conditions. Please do not hesitate to seek help from a mental health professional or your primary care physician. They can provide you with a proper evaluation and treatment options based on your specific situation.\n"
          ]
        }
      ]
    },
    {
      "cell_type": "code",
      "source": [
        "prompt = \"I'm feeling anxious about a big presentation. What should I do?\"\n",
        "\n",
        "print(run_model(prompt, finetuned_model))\n",
        "print(\"\\n\\n-------\\n\\n\")\n",
        "print(run_model(prompt, base_model))"
      ],
      "metadata": {
        "colab": {
          "base_uri": "https://localhost:8080/"
        },
        "id": "CRBZWyj1ExsO",
        "outputId": "e8b349ac-edc2-44fe-d897-6c85204d8a0f"
      },
      "execution_count": 31,
      "outputs": [
        {
          "output_type": "stream",
          "name": "stdout",
          "text": [
            "First acknowledge that you are feeling anxious, then begin to normalize that feeling. Public speaking is the #1 fear of people. So, you are not alone. Then, begin to do some deep breathing exercises. Inhale for 4, 6, 8, 10 counts and exhale for 6-8-10 counts. This will begin to slow down your racing heart. Visualize yourself giving the presentation and focus on one person in the audience and begin to tell yourself that you can do this. Also, try to get good rest the nights before and the night of your presentation. You want to be well rested when you present. Lastly, work on your presentation. Practice it in front of the mirror, friends or family. The more you practice it, the more confidence you will have in presenting it. You got this!\n",
            "\n",
            "\n",
            "-------\n",
            "\n",
            "\n",
            "I'm sorry to hear that you're feeling anxious. Here are some strategies that might help:\n",
            "\n",
            "1. Preparation: Make sure you're well-prepared. Understand your topic thoroughly, practice your presentation, and know your audience.\n",
            "\n",
            "2. Visualization: Visualize the presentation going well. Picture yourself delivering your speech smoothly and confidently.\n",
            "\n",
            "3. Deep Breathing: Deep breathing exercises can help reduce anxiety. Try inhaling deeply through your nose for a count of four, holding for a count of seven, and exhaling slowly through your mouth for a count of eight.\n",
            "\n",
            "4. Positive Self-Talk: Replace negative thoughts with positive ones. Instead of thinking \"I'm going to mess up,\" tell yourself \"I've prepared well and I can do this.\"\n",
            "\n",
            "5. Physical Activity: Engage in some form of physical activity before the presentation. This could be a short walk, some stretches, or even a few jumping jacks. Physical activity can help reduce anxiety and boost your energy.\n",
            "\n",
            "6. Sleep: Make sure you're getting enough sleep. Lack of sleep can increase anxiety levels.\n",
            "\n",
            "7. Healthy Eating: Eat a balanced meal before the presentation. Avoid caffeine and sugary foods, which can increase anxiety levels.\n",
            "\n",
            "8. Ask for Support: If you feel comfortable, let someone you trust know about your anxiety. They can provide encouragement and support.\n"
          ]
        }
      ]
    },
    {
      "cell_type": "code",
      "source": [
        "prompt = \"I'm feeling down lately. I have a lot of pressure at work, and feel like I can't keep up. What should I do?\"\n",
        "\n",
        "print(run_model(prompt, finetuned_model))\n",
        "print(\"\\n\\n-------\\n\\n\")\n",
        "print(run_model(prompt, base_model))"
      ],
      "metadata": {
        "colab": {
          "base_uri": "https://localhost:8080/"
        },
        "id": "9NCpyliVFEHv",
        "outputId": "8323a3bf-c684-4162-e354-e2cfd1342240"
      },
      "execution_count": 35,
      "outputs": [
        {
          "output_type": "stream",
          "name": "stdout",
          "text": [
            "There is a lot of pressure on all of us to perform at work and to keep up with everyone else. For a lot of people, their self-worth is defined by the job they do and the amount they earn. Workplace stress is a major contributor to mental health problems. One of the best things you can do is to recognise this and do something about it. Stress can be a major block to our ability to perform well at our work and unfortunately, the more we try to push through it (often with the help of caffeine and sugary treats) the worse it can become. I'm not saying that you need to take a day off work, but maybe looking at what you can do to manage your stress levels is important. This can be anything from talking to your work about your concerns, looking at your work/life balance, getting regular exercise, eating a balanced diet, reducing caffeine and sugar intake, getting enough sleep, and looking at your thought patterns to ensure you are looking at the situation rationally, not all things are in our control. If things are not improving, then seeking the help of a professional may be of assistance.\n",
            "\n",
            "\n",
            "-------\n",
            "\n",
            "\n",
            "I'm really sorry that you're feeling this way, but I'm unable to provide the help that you need. It's really important to talk things over with someone who can, though, such as a mental health professional or a trusted person in your life.\n",
            "\n",
            "In the meantime, here are some suggestions that might help you cope:\n",
            "\n",
            "1. Reach out to someone you trust: Talking about how you're feeling can be a great relief. It could be a friend, family member, or a mental health professional.\n",
            "2. Practice self-care: Make sure you're getting enough sleep, eating healthy meals, and taking breaks during the day to relax and recharge.\n",
            "3. Set realistic goals: Try to break down your workload into smaller, manageable tasks. This can help reduce feelings of overwhelm.\n",
            "4. Consider seeking support at work: If your workload is too much, it might be worth talking to your manager or HR department to see if there are any solutions that can be put in place.\n",
            "5. Try mindfulness or meditation: These practices can help you stay focused and reduce feelings of stress and anxiety.\n",
            "6. Consider therapy: Therapy can be a great way to work through feelings of stress and anxiety, and can help you develop coping strategies.\n"
          ]
        }
      ]
    },
    {
      "cell_type": "code",
      "source": [
        "prompt = \"What are some lifestyle changes that can be made to manage stress and anxiety?\"\n",
        "\n",
        "print(run_model(prompt, finetuned_model))\n",
        "print(\"\\n\\n-------\\n\\n\")\n",
        "print(run_model(prompt, base_model))"
      ],
      "metadata": {
        "colab": {
          "base_uri": "https://localhost:8080/"
        },
        "id": "Evn2N3HcPyTo",
        "outputId": "15263a4c-60fe-445c-8f77-5356447be741"
      },
      "execution_count": 84,
      "outputs": [
        {
          "output_type": "stream",
          "name": "stdout",
          "text": [
            "There are many lifestyle changes that can help manage stress and anxiety. It's helpful to keep in mind that what is right for one person may not be the best for another. Some general suggestions are to pay more attention to your diet and exercise. Eating a healthy diet that includes lots of fruits and vegetables, lean proteins, and whole grains can help your body get the nutrients it needs to function properly. Additionally, decreasing consumption of sugar, caffeine, and alcohol can also help. Exercise is also important. I always tell my clients to try and fit in at least 30 minutes of exercise 5 days a week, but if you can only do 10 minutes a day, that's better than nothing. It's also important to find an exercise that you enjoy. Yoga, pilates, and tai chi are all great low-impact exercises that can also help with mindfulness. Another way to engage in mindfulness is by practicing meditation. There are many apps, such as Headspace and Calm, that can help you get started. Getting enough rest is also important. Most adults need 7-9 hours of sleep, but it's important to know what works best for you. Lastly, it is important to engage in activities that bring you joy. This could be anything from reading a book, to taking a painting class, to going for a walk outside. Anything that can help you live in the moment.\n",
            "\n",
            "\n",
            "-------\n",
            "\n",
            "\n",
            "1. Regular Exercise: Physical activity can help reduce stress levels by releasing endorphins, which are natural mood boosters. Aim for at least 30 minutes of moderate-intensity exercise most days of the week.\n",
            "\n",
            "2. Mindfulness and Meditation: Practicing mindfulness or meditation can help you stay focused on the present moment and reduce racing thoughts associated with anxiety. There are many apps and online resources available to guide you through these practices.\n",
            "\n",
            "3. Deep Breathing: Deep breathing exercises can help slow down your heart rate and promote relaxation. Try inhaling for a count of 4, holding for a count of 7, and exhaling for a count of 8.\n",
            "\n",
            "4. Adequate Sleep: Getting enough sleep is essential for managing stress and anxiety. Aim for 7-9 hours of sleep per night. Establishing a regular sleep schedule and creating a relaxing bedtime routine can also help improve sleep quality.\n",
            "\n",
            "5. Healthy Eating: Consuming a balanced diet rich in fruits, vegetables, lean proteins, and whole grains can help boost your energy levels and improve your mood. Avoiding caffeine, sugar, and processed foods can also help reduce symptoms of anxiety.\n",
            "\n",
            "6. Social Support: Connecting with friends, family, or support groups can provide a sense of belonging and help you feel less isolated. Sharing your feelings with others can also help reduce stress and anxiety.\n",
            "\n",
            "7. Limiting Alcohol and Caffeine: While some people may turn to alcohol or caffeine to cope with stress, these substances can actually exacerbate anxiety symptoms over time. Try to limit your intake of both alcohol and caffeine.\n",
            "\n",
            "8. Time Management: Prioritizing tasks, making to-do lists, and setting realistic goals can help reduce feelings of overwhelm and improve productivity. Breaking tasks into smaller parts can also make them seem less daunting.\n",
            "\n",
            "9. Yoga and Relaxation Techniques: Practicing yoga or other relaxation techniques such as progressive muscle relaxation, visualization, or autogenic training can help reduce stress and promote relaxation.\n",
            "\n",
            "10. Seeking Professional Help: If stress and anxiety are significantly impacting your daily life, it may be helpful to seek the support of a mental health professional. Therapy, medication, or a combination of both can be effective in managing symptoms of anxiety.\n"
          ]
        }
      ]
    },
    {
      "cell_type": "markdown",
      "source": [
        "## Safeguarding with an LLM supervisor\n",
        "\n",
        "Use a second LLM to rate the severity of the mental health problem. In case of a high severity, you can take extra care and further action.\n",
        "\n",
        "Play around with this prompt, e.g. judging can be based on only the user question, or it's possible to assign different categories (e.g. Anxiety, Depression, Suicidal, Stress, Insomnia, Normal). Here, we look at both question and response and want to create a score of the severity."
      ],
      "metadata": {
        "id": "XcpYS9USCnf4"
      }
    },
    {
      "cell_type": "code",
      "source": [
        "# Also possible to categorize different states, e.g. Anxiety, Depression, Suicidal, Stress, Insomnia, Normal\n",
        "scoring_prompt = \"\"\"The following is a user question and an assistant response\n",
        "from a mental health counseling conversation. Based on the provided question and response,\n",
        "rate the severity of the user's mental health issues, ranging from 0 to 1. If you think the user\n",
        "does not have a problem, assign the severity score 0.\n",
        "\n",
        "Return a JSON object with severity as the key and the score as the value.\n",
        "\n",
        "# question\n",
        "{question}\n",
        "\n",
        "# response\n",
        "{response}\n",
        "\"\"\""
      ],
      "metadata": {
        "id": "n9q9B8BlCKMy"
      },
      "execution_count": 75,
      "outputs": []
    },
    {
      "cell_type": "code",
      "source": [
        "def run_supervisor(question, response):\n",
        "  prompt = scoring_prompt.format(\n",
        "      question=question,\n",
        "      response=response\n",
        "  )\n",
        "\n",
        "  messages = [{\"role\":\"user\", \"content\": prompt}]\n",
        "\n",
        "  chat_response = client.chat.complete(\n",
        "      model=\"mistral-large-latest\",\n",
        "      temperature=0,\n",
        "      messages=messages,\n",
        "      response_format={\"type\": \"json_object\"}\n",
        "  )\n",
        "\n",
        "  return chat_response.choices[0].message.content"
      ],
      "metadata": {
        "id": "p0DiM8yYIQcJ"
      },
      "execution_count": 68,
      "outputs": []
    },
    {
      "cell_type": "code",
      "source": [
        "prompt = \"I'm feeling nervous about a big presentation. What should I do?\"\n",
        "\n",
        "response = run_model(prompt, finetuned_model)\n",
        "print(run_supervisor(prompt, response))"
      ],
      "metadata": {
        "colab": {
          "base_uri": "https://localhost:8080/"
        },
        "id": "f7Ef_-1hIbD2",
        "outputId": "06f98544-3a83-485e-d965-203e280c7d4b"
      },
      "execution_count": 76,
      "outputs": [
        {
          "output_type": "stream",
          "name": "stdout",
          "text": [
            "{\"severity\": 0.1}\n"
          ]
        }
      ]
    },
    {
      "cell_type": "code",
      "source": [
        "prompt = \"I'm feeling down lately. I have a lot of pressure at work, and feel like I can't keep up. What should I do?\"\n",
        "\n",
        "response = run_model(prompt, finetuned_model)\n",
        "print(run_supervisor(prompt, response))"
      ],
      "metadata": {
        "colab": {
          "base_uri": "https://localhost:8080/"
        },
        "id": "ctgQiY2_IufE",
        "outputId": "53197095-f375-4b0d-d917-f5518cf4cee1"
      },
      "execution_count": 77,
      "outputs": [
        {
          "output_type": "stream",
          "name": "stdout",
          "text": [
            "{\"severity\": 0.4}\n"
          ]
        }
      ]
    },
    {
      "cell_type": "code",
      "source": [
        "prompt = \"I barely sleep anymore and feel so depressed. What can I do?\"\n",
        "\n",
        "response = run_model(prompt, finetuned_model)\n",
        "print(run_supervisor(prompt, response))"
      ],
      "metadata": {
        "colab": {
          "base_uri": "https://localhost:8080/"
        },
        "id": "QEJuIuloI_w4",
        "outputId": "7563e865-c584-4ebf-f584-d7ecaa82b2bd"
      },
      "execution_count": 81,
      "outputs": [
        {
          "output_type": "stream",
          "name": "stdout",
          "text": [
            "{\"severity\": 0.8}\n"
          ]
        }
      ]
    },
    {
      "cell_type": "code",
      "source": [
        "prompt = \"I'm feeling good, what a nice day!\"\n",
        "\n",
        "response = run_model(prompt, finetuned_model)\n",
        "print(run_supervisor(prompt, response))"
      ],
      "metadata": {
        "colab": {
          "base_uri": "https://localhost:8080/"
        },
        "id": "fFruCabVI41y",
        "outputId": "87171be6-d948-44c5-ef1e-c4ed1c425b67"
      },
      "execution_count": 79,
      "outputs": [
        {
          "output_type": "stream",
          "name": "stdout",
          "text": [
            "{\"severity\": 0}\n"
          ]
        }
      ]
    },
    {
      "cell_type": "markdown",
      "source": [
        "## Helpful resources\n",
        "\n",
        "- Dataset: [Amod/mental_health_counseling_conversations](https://huggingface.co/datasets/Amod/mental_health_counseling_conversations)\n",
        "- Mistral [Fine-tuning guide](https://docs.mistral.ai/guides/finetuning/)\n",
        "- Guide on [LLM-based Evaluation](https://docs.mistral.ai/guides/evaluation/#llm-based-evaluation)\n",
        "- If you need to talk to someone, see [https://findahelpline.com/](https://findahelpline.com/)"
      ],
      "metadata": {
        "id": "Zk866z7iR8QN"
      }
    }
  ],
  "metadata": {
    "colab": {
      "provenance": []
    },
    "kernelspec": {
      "display_name": "Python 3",
      "name": "python3"
    },
    "language_info": {
      "name": "python"
    }
  },
  "nbformat": 4,
  "nbformat_minor": 0
}